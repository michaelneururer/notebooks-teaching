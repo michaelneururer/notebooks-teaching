{
 "cells": [
  {
   "cell_type": "markdown",
   "metadata": {},
   "source": [
    "## This sage worksheet is part of the course\n",
    "# <p style=\"text-align: center;\"> Cryptography </p>\n",
    "## that I taught jointly with Roisin Neururer contributing to the summer school Faszination Mathematik 2018.\n",
    "\n",
    "## The course contained a theoretical part and a programming part, where the students programmed an RSA cryptosystem from scratch.\n",
    "\n",
    "## While some students knew other programming languages, none of them were familiar with Python. This was their introduction to Python. "
   ]
  },
  {
   "cell_type": "markdown",
   "metadata": {},
   "source": [
    "# Einführung in die Programmiersprache Python"
   ]
  },
  {
   "cell_type": "markdown",
   "metadata": {},
   "source": [
    "In diesem Kurs werden wir in Python unseren eigenen RSA Algorithmus programmieren. Dafür brauchen wir zunächst ein paar Grundlagen in Python"
   ]
  },
  {
   "cell_type": "markdown",
   "metadata": {},
   "source": [
    "## 1: Was ist Python?\n",
    "Python ist eine Programmiersprache, die 1991 von Guido van Rossum entwickelt wurde. Sie ist heute eine der beliebtesten Programmiersprachen für Softwareentwickler und kommt auch in der Wissenschaft zum Einsatz."
   ]
  },
  {
   "cell_type": "markdown",
   "metadata": {},
   "source": [
    "## Erste Befehle\n",
    "Der erste Befehl, den man in vielen Programmiersprachen kennenlernt "
   ]
  },
  {
   "cell_type": "code",
   "execution_count": 1,
   "metadata": {},
   "outputs": [
    {
     "name": "stdout",
     "output_type": "stream",
     "text": [
      "Hello World!\n"
     ]
    }
   ],
   "source": [
    "print('Hello World!')"
   ]
  },
  {
   "cell_type": "code",
   "execution_count": 14,
   "metadata": {},
   "outputs": [
    {
     "name": "stdout",
     "output_type": "stream",
     "text": [
      "WOW!\n",
      "WOW!\n",
      "WOW!\n",
      "WOW!\n",
      "WOW!\n",
      "WOW!\n"
     ]
    }
   ],
   "source": [
    "z = 5\n",
    "for i in range(30):\n",
    "    if i % z == 0:\n",
    "        print(\"WOW!\")"
   ]
  },
  {
   "cell_type": "code",
   "execution_count": 5,
   "metadata": {},
   "outputs": [
    {
     "name": "stdout",
     "output_type": "stream",
     "text": [
      "hi\n"
     ]
    }
   ],
   "source": [
    "print('hi')"
   ]
  },
  {
   "cell_type": "code",
   "execution_count": 1,
   "metadata": {},
   "outputs": [
    {
     "name": "stdout",
     "output_type": "stream",
     "text": [
      "Hello!\n"
     ]
    }
   ],
   "source": [
    "print('Hello!')"
   ]
  },
  {
   "cell_type": "markdown",
   "metadata": {},
   "source": [
    "## 2: Variablen\n",
    "Variablen werden in Python deklariert, indem man ihnen einfach einen Wert zuordnet"
   ]
  },
  {
   "cell_type": "code",
   "execution_count": 9,
   "metadata": {},
   "outputs": [],
   "source": [
    "a = 2"
   ]
  },
  {
   "cell_type": "code",
   "execution_count": 10,
   "metadata": {},
   "outputs": [],
   "source": [
    "b = 3"
   ]
  },
  {
   "cell_type": "code",
   "execution_count": 11,
   "metadata": {},
   "outputs": [],
   "source": [
    "c = 'Hello world'"
   ]
  },
  {
   "cell_type": "code",
   "execution_count": 12,
   "metadata": {},
   "outputs": [],
   "source": [
    "d = '!'"
   ]
  },
  {
   "cell_type": "code",
   "execution_count": 13,
   "metadata": {},
   "outputs": [
    {
     "name": "stdout",
     "output_type": "stream",
     "text": [
      "Man kann auch Variablen mit der print Methode ausgeben lassen, indem man sie einfach als Input angibt: 2 3\n"
     ]
    }
   ],
   "source": [
    "print('Man kann auch Variablen mit der print Methode ausgeben lassen, indem man sie einfach als Input angibt:', a,b)"
   ]
  },
  {
   "cell_type": "markdown",
   "metadata": {},
   "source": [
    "## Rechnen mit Variablen\n",
    "Jede Variable hat einen Typen, zum Beispiel haben a und b den Typen int (das sind die ganzen Zahlen) und c und d haben den Typen str (das sind Strings oder auf deutsch Texte). Mit ganzen Zahlen kann man rechnen wie man es gewohnt ist. Beachtet aber, dass die Notation für \"a hoch k\" in Python a\\**k ist.\n",
    "\n",
    "### <font color =\"green\"> Was machen die üblichen Rechenoperationen mit Strings und Zahlen (evtl gemischt!)? </font>"
   ]
  },
  {
   "cell_type": "code",
   "execution_count": 15,
   "metadata": {},
   "outputs": [
    {
     "data": {
      "text/plain": [
       "int"
      ]
     },
     "execution_count": 15,
     "metadata": {},
     "output_type": "execute_result"
    }
   ],
   "source": [
    "type(a)"
   ]
  },
  {
   "cell_type": "code",
   "execution_count": 18,
   "metadata": {},
   "outputs": [
    {
     "data": {
      "text/plain": [
       "str"
      ]
     },
     "execution_count": 18,
     "metadata": {},
     "output_type": "execute_result"
    }
   ],
   "source": [
    "type(c)"
   ]
  },
  {
   "cell_type": "code",
   "execution_count": 40,
   "metadata": {},
   "outputs": [
    {
     "data": {
      "text/plain": [
       "5"
      ]
     },
     "execution_count": 40,
     "metadata": {},
     "output_type": "execute_result"
    }
   ],
   "source": [
    "a+b"
   ]
  },
  {
   "cell_type": "code",
   "execution_count": 41,
   "metadata": {},
   "outputs": [
    {
     "data": {
      "text/plain": [
       "18"
      ]
     },
     "execution_count": 41,
     "metadata": {},
     "output_type": "execute_result"
    }
   ],
   "source": [
    "a*b + 12"
   ]
  },
  {
   "cell_type": "code",
   "execution_count": 16,
   "metadata": {},
   "outputs": [
    {
     "data": {
      "text/plain": [
       "1024"
      ]
     },
     "execution_count": 16,
     "metadata": {},
     "output_type": "execute_result"
    }
   ],
   "source": [
    "a**10"
   ]
  },
  {
   "cell_type": "markdown",
   "metadata": {},
   "source": [
    "## 3: if-Abfragen\n",
    "Die Programme die wir schreiben, die je nach Situation unterschiedliche Befehle ausführen sollen. Das bewerkstelligen wir mit if-Abfragen.\n",
    "### <font color =\"green\"> Probier die Variable test so zu verändern, dass nach der if-Abfrage \\\"Geschafft\\\" gedruckt wird </font>"
   ]
  },
  {
   "cell_type": "code",
   "execution_count": 47,
   "metadata": {},
   "outputs": [],
   "source": [
    "test = 'Passwort'"
   ]
  },
  {
   "cell_type": "code",
   "execution_count": 49,
   "metadata": {},
   "outputs": [],
   "source": [
    "test = \"AAAA\""
   ]
  },
  {
   "cell_type": "code",
   "execution_count": 50,
   "metadata": {},
   "outputs": [
    {
     "name": "stdout",
     "output_type": "stream",
     "text": [
      "Geschafft!\n"
     ]
    }
   ],
   "source": [
    "if test == 'AAAA':\n",
    "    print('Geschafft!')\n",
    "else:\n",
    "    print('Verändere test!')"
   ]
  },
  {
   "cell_type": "markdown",
   "metadata": {},
   "source": [
    "## 4: Schleifen\n",
    "In unseren Anwendungen wollen wir oft eine Befehlskette oft hintereinander ausführen. Dafür gibt es die for-Schleife und die while-Schleife\n",
    "### <font color =\"green\"> Schreibe eine for-Schleife, in der alle ungeraden Zahlen von 1 bis 100 gedruckt werden </font>"
   ]
  },
  {
   "cell_type": "code",
   "execution_count": 56,
   "metadata": {},
   "outputs": [
    {
     "name": "stdout",
     "output_type": "stream",
     "text": [
      "1\n",
      "3\n",
      "5\n",
      "7\n",
      "9\n",
      "11\n",
      "13\n",
      "15\n",
      "17\n",
      "19\n",
      "21\n",
      "23\n",
      "25\n",
      "27\n",
      "29\n",
      "31\n",
      "33\n",
      "35\n",
      "37\n",
      "39\n",
      "41\n",
      "43\n",
      "45\n",
      "47\n",
      "49\n",
      "51\n",
      "53\n",
      "55\n",
      "57\n",
      "59\n",
      "61\n",
      "63\n",
      "65\n",
      "67\n",
      "69\n",
      "71\n",
      "73\n",
      "75\n",
      "77\n",
      "79\n",
      "81\n",
      "83\n",
      "85\n",
      "87\n",
      "89\n",
      "91\n",
      "93\n",
      "95\n",
      "97\n",
      "99\n"
     ]
    }
   ],
   "source": [
    "for i in range(100):\n",
    "    if i%2 == 1:\n",
    "        print(i)"
   ]
  },
  {
   "cell_type": "code",
   "execution_count": 53,
   "metadata": {},
   "outputs": [
    {
     "name": "stdout",
     "output_type": "stream",
     "text": [
      "Schleifendurchgang Nummer 0\n",
      "Schleifendurchgang Nummer 1\n",
      "Schleifendurchgang Nummer 2\n",
      "Schleifendurchgang Nummer 3\n",
      "Schleifendurchgang Nummer 4\n",
      "Schleifendurchgang Nummer 5\n",
      "Schleifendurchgang Nummer 6\n",
      "Schleifendurchgang Nummer 7\n",
      "Schleifendurchgang Nummer 8\n",
      "Schleifendurchgang Nummer 9\n"
     ]
    }
   ],
   "source": [
    "for i in range(10):\n",
    "    print('Schleifendurchgang Nummer', i)"
   ]
  },
  {
   "cell_type": "code",
   "execution_count": 57,
   "metadata": {
    "scrolled": true
   },
   "outputs": [
    {
     "name": "stdout",
     "output_type": "stream",
     "text": [
      "k ist nun  1\n",
      "Multiplizieren wir k mit 2 erhalten wir 2\n",
      "k ist nun  2\n",
      "Multiplizieren wir k mit 2 erhalten wir 4\n",
      "k ist nun  4\n",
      "Multiplizieren wir k mit 2 erhalten wir 8\n",
      "k ist nun  8\n",
      "Multiplizieren wir k mit 2 erhalten wir 16\n"
     ]
    }
   ],
   "source": [
    "k = 1\n",
    "while k < 10:\n",
    "    print('k ist nun ', k)\n",
    "    print('Multiplizieren wir k mit 2 erhalten wir', 2*k)\n",
    "    k = 2*k"
   ]
  },
  {
   "cell_type": "code",
   "execution_count": 61,
   "metadata": {},
   "outputs": [],
   "source": [
    "b = 1"
   ]
  },
  {
   "cell_type": "code",
   "execution_count": 66,
   "metadata": {},
   "outputs": [
    {
     "name": "stdout",
     "output_type": "stream",
     "text": [
      "stimmt\n"
     ]
    }
   ],
   "source": [
    "if (1 < 2 and 2 < 4) or 10 > 100:\n",
    "    print('stimmt')"
   ]
  },
  {
   "cell_type": "markdown",
   "metadata": {},
   "source": [
    "## 5: Funktionen\n",
    "Funktionen produzieren aus gegebenen Variablen (=Input) ein Ergebnis (=Output) und können immer wieder verwendet werden können. Python hat eingebaute Funktionen, wie z.B. die type Funktion oben, aber wir können einfach unsere eigenen Funktionen definieren.\n",
    "### <font color =\"green\"> Schreibe eine Funktion, die überprüft ob eine gegebene Zahl eine Quadratzahl ist.  </font>"
   ]
  },
  {
   "cell_type": "code",
   "execution_count": 135,
   "metadata": {},
   "outputs": [],
   "source": [
    "def square(k):\n",
    "    flag=0\n",
    "    i=0\n",
    "    for i in range(i**2>k+1):\n",
    "        if i**2 == k:\n",
    "            flag=i\n",
    "            break\n",
    "    if flag != 0:\n",
    "        return i\n",
    "    else:\n",
    "        print (k,'ist keine Quadratzahl')"
   ]
  },
  {
   "cell_type": "code",
   "execution_count": 137,
   "metadata": {},
   "outputs": [
    {
     "name": "stdout",
     "output_type": "stream",
     "text": [
      "4 ist keine Quadratzahl\n"
     ]
    }
   ],
   "source": [
    "square(4)"
   ]
  },
  {
   "cell_type": "code",
   "execution_count": 67,
   "metadata": {},
   "outputs": [],
   "source": [
    "def summe_der_quadrate(x,y):\n",
    "    return x**2 + y**2"
   ]
  },
  {
   "cell_type": "code",
   "execution_count": 139,
   "metadata": {},
   "outputs": [
    {
     "name": "stdout",
     "output_type": "stream",
     "text": [
      "1.2\n"
     ]
    }
   ],
   "source": [
    "print(6/5)"
   ]
  },
  {
   "cell_type": "code",
   "execution_count": 132,
   "metadata": {},
   "outputs": [],
   "source": [
    "def testeQuadrat(x):\n",
    "    b = -1\n",
    "    for i in range(x):\n",
    "        if i*i == x:\n",
    "            b = i\n",
    "            break\n",
    "    if b == -1:\n",
    "        s = \"Die Zahl ist keine Quadratzahl!\"\n",
    "    else:\n",
    "        s = \"Die Zahl ist eine Quadratzahl von \" + str(b) + \"!\"\n",
    "    return s"
   ]
  },
  {
   "cell_type": "code",
   "execution_count": 133,
   "metadata": {},
   "outputs": [
    {
     "name": "stdout",
     "output_type": "stream",
     "text": [
      "Die Zahl ist eine Quadratzahl von 4!\n"
     ]
    }
   ],
   "source": [
    "print(testeQuadrat(16))"
   ]
  },
  {
   "cell_type": "code",
   "execution_count": 78,
   "metadata": {},
   "outputs": [
    {
     "ename": "SyntaxError",
     "evalue": "invalid syntax (<ipython-input-78-19a461e3f0b2>, line 1)",
     "output_type": "error",
     "traceback": [
      "\u001b[0;36m  File \u001b[0;32m\"<ipython-input-78-19a461e3f0b2>\"\u001b[0;36m, line \u001b[0;32m1\u001b[0m\n\u001b[0;31m    def summe_der_quadrate(10,5)\u001b[0m\n\u001b[0m                            ^\u001b[0m\n\u001b[0;31mSyntaxError\u001b[0m\u001b[0;31m:\u001b[0m invalid syntax\n"
     ]
    }
   ],
   "source": [
    "summe_der_quadrate(10,5)"
   ]
  },
  {
   "cell_type": "code",
   "execution_count": 69,
   "metadata": {},
   "outputs": [
    {
     "data": {
      "text/plain": [
       "1015129"
      ]
     },
     "execution_count": 69,
     "metadata": {},
     "output_type": "execute_result"
    }
   ],
   "source": [
    "summe_der_quadrate(1000,123)"
   ]
  },
  {
   "cell_type": "markdown",
   "metadata": {},
   "source": [
    "## 6: Modulo-Rechnen\n",
    "**Tipp:** Bei komplizierten Funktionen hilft es Kommentare einzubauen, damit man später wieder versteht was passiert. In Python kommen Kommentare nach dem \"#\" Symbol. Die werden vom Computer einfach ignoriert und nicht als Befehle gelesen.\n",
    "### <font color =\"green\"> Definiere eine Funktion division_mit_rest, die den Rest von a nach einer Division durch b ausgibt. Benutze diese Funktion in weiteren Funktionen, die die Aufgaben von heute morgen lösen </font>"
   ]
  },
  {
   "cell_type": "code",
   "execution_count": 224,
   "metadata": {},
   "outputs": [],
   "source": [
    "def cheater (a,b):\n",
    "     return a-(a/b-a/b%1)*b"
   ]
  },
  {
   "cell_type": "code",
   "execution_count": 222,
   "metadata": {},
   "outputs": [
    {
     "data": {
      "text/plain": [
       "1.0"
      ]
     },
     "execution_count": 222,
     "metadata": {},
     "output_type": "execute_result"
    }
   ],
   "source": [
    "cheater (2017,3)"
   ]
  },
  {
   "cell_type": "code",
   "execution_count": 182,
   "metadata": {},
   "outputs": [],
   "source": [
    "def divisionRemainder(a,b):\n",
    "    for q in range(a+1):\n",
    "        if b*q > a:\n",
    "            r = a-b*(q-1)\n",
    "            print('q = ',q-1,' und r = ',r)\n",
    "            break"
   ]
  },
  {
   "cell_type": "code",
   "execution_count": 184,
   "metadata": {},
   "outputs": [
    {
     "name": "stdout",
     "output_type": "stream",
     "text": [
      "q =  5  und r =  2\n"
     ]
    }
   ],
   "source": [
    "divisionRemainder (17,3)"
   ]
  },
  {
   "cell_type": "code",
   "execution_count": 177,
   "metadata": {},
   "outputs": [],
   "source": [
    "def division_mit_rest_KonvergenzProdukt(a,b):\n",
    "    q = 0\n",
    "    while q * b <= a:\n",
    "        q = q + 1\n",
    "    if q * b > a:\n",
    "        q = q - 1\n",
    "        r = a - q * b\n",
    "    return q,r"
   ]
  },
  {
   "cell_type": "code",
   "execution_count": 181,
   "metadata": {},
   "outputs": [
    {
     "data": {
      "text/plain": [
       "(6, 0)"
      ]
     },
     "execution_count": 181,
     "metadata": {},
     "output_type": "execute_result"
    }
   ],
   "source": [
    "division_mit_rest_KonvergenzProdukt(30,5)"
   ]
  },
  {
   "cell_type": "code",
   "execution_count": 196,
   "metadata": {},
   "outputs": [
    {
     "data": {
      "text/plain": [
       "(5, 4)"
      ]
     },
     "execution_count": 196,
     "metadata": {},
     "output_type": "execute_result"
    }
   ],
   "source": [
    "def ModuloFunktion(a,b):\n",
    "    q = a//b\n",
    "    r = a%b\n",
    "    return q,r\n",
    "\n",
    "ModuloFunktion(39,7)"
   ]
  },
  {
   "cell_type": "code",
   "execution_count": 168,
   "metadata": {},
   "outputs": [
    {
     "data": {
      "text/plain": [
       "(5, 4)"
      ]
     },
     "execution_count": 168,
     "metadata": {},
     "output_type": "execute_result"
    }
   ],
   "source": [
    "def ModuloUnnoetigKompliziert(a,b):\n",
    "    q = int(a/b)\n",
    "    r = a\n",
    "    while r > b:\n",
    "        r -= b\n",
    "    return q,r\n",
    "\n",
    "ModuloUnnoetigKompliziert(39,7)"
   ]
  },
  {
   "cell_type": "code",
   "execution_count": 190,
   "metadata": {},
   "outputs": [
    {
     "ename": "NameError",
     "evalue": "name 'r' is not defined",
     "output_type": "error",
     "traceback": [
      "\u001b[0;31m---------------------------------------------------------------------------\u001b[0m",
      "\u001b[0;31mNameError\u001b[0m                                 Traceback (most recent call last)",
      "\u001b[0;32m<ipython-input-190-f172f70130e8>\u001b[0m in \u001b[0;36m<module>\u001b[0;34m()\u001b[0m\n\u001b[1;32m      4\u001b[0m     \u001b[0;32mreturn\u001b[0m \u001b[0mr\u001b[0m\u001b[0;34m\u001b[0m\u001b[0m\n\u001b[1;32m      5\u001b[0m \u001b[0;34m\u001b[0m\u001b[0m\n\u001b[0;32m----> 6\u001b[0;31m \u001b[0mRichtigUnnoetigKompliziert\u001b[0m\u001b[0;34m(\u001b[0m\u001b[0;36m6\u001b[0m\u001b[0;34m,\u001b[0m\u001b[0;36m5\u001b[0m\u001b[0;34m)\u001b[0m\u001b[0;34m\u001b[0m\u001b[0m\n\u001b[0m",
      "\u001b[0;32m<ipython-input-190-f172f70130e8>\u001b[0m in \u001b[0;36mRichtigUnnoetigKompliziert\u001b[0;34m(a, b)\u001b[0m\n\u001b[1;32m      1\u001b[0m \u001b[0;32mdef\u001b[0m \u001b[0mRichtigUnnoetigKompliziert\u001b[0m\u001b[0;34m(\u001b[0m\u001b[0ma\u001b[0m\u001b[0;34m,\u001b[0m\u001b[0mb\u001b[0m\u001b[0;34m)\u001b[0m\u001b[0;34m:\u001b[0m\u001b[0;34m\u001b[0m\u001b[0m\n\u001b[1;32m      2\u001b[0m     \u001b[0mq\u001b[0m \u001b[0;34m=\u001b[0m \u001b[0mint\u001b[0m \u001b[0;34m(\u001b[0m\u001b[0ma\u001b[0m\u001b[0;34m/\u001b[0m\u001b[0mb\u001b[0m\u001b[0;34m)\u001b[0m\u001b[0;34m\u001b[0m\u001b[0m\n\u001b[0;32m----> 3\u001b[0;31m     \u001b[0ma\u001b[0m \u001b[0;34m=\u001b[0m \u001b[0mb\u001b[0m \u001b[0;34m*\u001b[0m \u001b[0mq\u001b[0m \u001b[0;34m+\u001b[0m \u001b[0mr\u001b[0m\u001b[0;34m\u001b[0m\u001b[0m\n\u001b[0m\u001b[1;32m      4\u001b[0m     \u001b[0;32mreturn\u001b[0m \u001b[0mr\u001b[0m\u001b[0;34m\u001b[0m\u001b[0m\n\u001b[1;32m      5\u001b[0m \u001b[0;34m\u001b[0m\u001b[0m\n",
      "\u001b[0;31mNameError\u001b[0m: name 'r' is not defined"
     ]
    }
   ],
   "source": [
    "def RichtigUnnoetigKompliziert(a,b):\n",
    "    q = int (a/b)\n",
    "    r = a-b/q\n",
    "    \n",
    "    return r\n",
    "\n",
    "RichtigUnnoetigKompliziert(6,5)"
   ]
  },
  {
   "cell_type": "code",
   "execution_count": 187,
   "metadata": {},
   "outputs": [],
   "source": [
    "def division_mit_rest_lara(a,b):\n",
    "    tmp = a\n",
    "    q = 0\n",
    "    \n",
    "    while tmp > b:\n",
    "        tmp = tmp-b\n",
    "        q = q + 1\n",
    "    return q, tmp"
   ]
  },
  {
   "cell_type": "code",
   "execution_count": 192,
   "metadata": {},
   "outputs": [
    {
     "data": {
      "text/plain": [
       "(3, 2)"
      ]
     },
     "execution_count": 192,
     "metadata": {},
     "output_type": "execute_result"
    }
   ],
   "source": [
    "division_mit_rest_lara(8,2)"
   ]
  },
  {
   "cell_type": "markdown",
   "metadata": {},
   "source": [
    "## 7: <font color =\"green\"> Schreibe eine Funktion, die mit dem euklidschen Algorithmus den ggT von zwei Zahlen bestimmt </font>"
   ]
  },
  {
   "cell_type": "code",
   "execution_count": 297,
   "metadata": {},
   "outputs": [
    {
     "data": {
      "text/plain": [
       "65"
      ]
     },
     "execution_count": 297,
     "metadata": {},
     "output_type": "execute_result"
    }
   ],
   "source": [
    "ord('A')"
   ]
  },
  {
   "cell_type": "code",
   "execution_count": 281,
   "metadata": {},
   "outputs": [
    {
     "data": {
      "text/plain": [
       "25"
      ]
     },
     "execution_count": 281,
     "metadata": {},
     "output_type": "execute_result"
    }
   ],
   "source": [
    "mehrstufigerzufallsversuch(75,50)"
   ]
  },
  {
   "cell_type": "code",
   "execution_count": 283,
   "metadata": {},
   "outputs": [],
   "source": [
    "def euklidscher_alg_rekursiv(a,b):\n",
    "    a = abs(a)\n",
    "    b = abs(b)\n",
    "    if a == 0 or b == 0:\n",
    "        return a+b\n",
    "    if a < b:\n",
    "        tmp = a\n",
    "        a = b\n",
    "        b = tmp\n",
    "    r = a%b\n",
    "    if r > 0:\n",
    "        return euclidean_alg(r,b)\n",
    "    if r == 0:\n",
    "        return b"
   ]
  },
  {
   "cell_type": "code",
   "execution_count": 276,
   "metadata": {},
   "outputs": [],
   "source": [
    "def mehrstufigerzufallsversuch(a,b):\n",
    "    if a<=b:\n",
    "        tmp = b\n",
    "        b = a\n",
    "        a = tmp\n",
    "    r = a%b\n",
    "    while r > 0:\n",
    "        a = b\n",
    "        b = r\n",
    "        q = a//b\n",
    "        r = a - q*b\n",
    "    return b"
   ]
  },
  {
   "cell_type": "code",
   "execution_count": 274,
   "metadata": {},
   "outputs": [],
   "source": [
    "def euklid_kp(a,b):\n",
    "    if a<=b:\n",
    "        tmp = b\n",
    "        b = a\n",
    "        a = tmp\n",
    "    q = a // b\n",
    "    r = a % b\n",
    "    while r != 0:\n",
    "        a = b\n",
    "        b = r\n",
    "        r = a % b\n",
    "    return b\n",
    "        "
   ]
  },
  {
   "cell_type": "code",
   "execution_count": 315,
   "metadata": {},
   "outputs": [
    {
     "data": {
      "text/plain": [
       "21"
      ]
     },
     "execution_count": 315,
     "metadata": {},
     "output_type": "execute_result"
    }
   ],
   "source": [
    "euklid_kp(1071, 462)"
   ]
  },
  {
   "cell_type": "code",
   "execution_count": 0,
   "metadata": {},
   "outputs": [],
   "source": [
    "def euklid_backwards_kp(a):\n",
    "    "
   ]
  },
  {
   "cell_type": "code",
   "execution_count": 285,
   "metadata": {},
   "outputs": [],
   "source": [
    "def euklid_algorithm_lara(a,b):\n",
    "    if b>a:\n",
    "        tmp = b\n",
    "        b = a\n",
    "        a = tmp\n",
    "    r = a%b\n",
    "    while r !=0:\n",
    "        a=b\n",
    "        b=r\n",
    "        r=a%b\n",
    "    return b"
   ]
  },
  {
   "cell_type": "code",
   "execution_count": 290,
   "metadata": {},
   "outputs": [
    {
     "data": {
      "text/plain": [
       "4"
      ]
     },
     "execution_count": 290,
     "metadata": {},
     "output_type": "execute_result"
    }
   ],
   "source": [
    "euklid_algorithm_lara(4,12)"
   ]
  },
  {
   "cell_type": "code",
   "execution_count": 0,
   "metadata": {},
   "outputs": [
    {
     "name": "stderr",
     "output_type": "stream",
     "text": [
      "cancelled"
     ]
    }
   ],
   "source": [
    "def BinomiscerRadius2(a,b):\n",
    "    if a>b:\n",
    "        g = a\n",
    "        k = b\n",
    "    else\n",
    "        g = b\n",
    "        k = a\n",
    "        \n",
    "    r = g % k\n",
    "    \n",
    "    while r != 0:\n",
    "        g = k\n",
    "        k = r\n",
    "        r = g % k\n",
    "        \n",
    "    return k\n",
    "\n",
    "BinomischerRadius2(10,5)"
   ]
  },
  {
   "cell_type": "code",
   "execution_count": 241,
   "metadata": {},
   "outputs": [],
   "source": [
    "def BinomischerRadius2(a,b):\n",
    "    if a>b:\n",
    "        g = a\n",
    "        k = b\n",
    "    else:\n",
    "        g = b\n",
    "        k = a\n",
    "        \n",
    "    r = g % k\n",
    "    \n",
    "    while r != 0:\n",
    "        g = k\n",
    "        k = r\n",
    "        r = g % k\n",
    "        \n",
    "    return k"
   ]
  },
  {
   "cell_type": "code",
   "execution_count": 247,
   "metadata": {},
   "outputs": [
    {
     "data": {
      "text/plain": [
       "5"
      ]
     },
     "execution_count": 247,
     "metadata": {},
     "output_type": "execute_result"
    }
   ],
   "source": [
    "BinomischerRadius2(10,5)"
   ]
  },
  {
   "cell_type": "code",
   "execution_count": 309,
   "metadata": {},
   "outputs": [],
   "source": [
    "def BinomischerRadius3(a,b):\n",
    "    if a>b:\n",
    "        g = a\n",
    "        k = b\n",
    "    else:\n",
    "        g = b\n",
    "        k = a\n",
    "        \n",
    "    r = g % k\n",
    "    q = g // k\n",
    "    \n",
    "    print(str(g)+\" = \"+str(k)+\" * \"+str(q)+\" + \"+str(r))\n",
    "    gleichungen = []\n",
    "    gleichungen.append([g,k,q,r])\n",
    "    \n",
    "    while r != 0:\n",
    "        g = k\n",
    "        k = r\n",
    "        r = g % k\n",
    "        q = g // k\n",
    "        print(str(g)+\" = \"+str(k)+\" * \"+str(q)+\" + \"+str(r))\n",
    "        gleichungen.append([g,k,q,r])\n",
    "        \n",
    "    print(\"Der ggT ist \"+str(k)+\"!\")    \n",
    "    \n",
    "    for i in range (len(gleichungen)):\n",
    "        s = \"\"\n",
    "        for j in range (4):\n",
    "            s += str(gleichungen[i][j])+\" \"\n",
    "        print(s)\n",
    "    \n",
    "    \n",
    "    \n",
    "    return k"
   ]
  },
  {
   "cell_type": "code",
   "execution_count": 312,
   "metadata": {},
   "outputs": [
    {
     "name": "stdout",
     "output_type": "stream",
     "text": [
      "300 = 7 * 42 + 6\n",
      "7 = 6 * 1 + 1\n",
      "6 = 1 * 6 + 0\n",
      "Der ggT ist 1!\n",
      "300 7 42 6 \n",
      "7 6 1 1 \n",
      "6 1 6 0 \n"
     ]
    },
    {
     "data": {
      "text/plain": [
       "1"
      ]
     },
     "execution_count": 312,
     "metadata": {},
     "output_type": "execute_result"
    }
   ],
   "source": [
    "BinomischerRadius3(300,7)"
   ]
  },
  {
   "cell_type": "code",
   "execution_count": 313,
   "metadata": {},
   "outputs": [
    {
     "data": {
      "text/plain": [
       "6"
      ]
     },
     "execution_count": 313,
     "metadata": {},
     "output_type": "execute_result"
    }
   ],
   "source": [
    "sum([1,2,3])"
   ]
  },
  {
   "cell_type": "code",
   "execution_count": 0,
   "metadata": {},
   "outputs": [],
   "source": []
  }
 ],
 "metadata": {
  "kernelspec": {
   "display_name": "Python 3",
   "language": "python",
   "name": "python3"
  },
  "language_info": {
   "codemirror_mode": {
    "name": "ipython",
    "version": 3
   },
   "file_extension": ".py",
   "mimetype": "text/x-python",
   "name": "python",
   "nbconvert_exporter": "python",
   "pygments_lexer": "ipython3",
   "version": "3.4.2"
  }
 },
 "nbformat": 4,
 "nbformat_minor": 1
}
