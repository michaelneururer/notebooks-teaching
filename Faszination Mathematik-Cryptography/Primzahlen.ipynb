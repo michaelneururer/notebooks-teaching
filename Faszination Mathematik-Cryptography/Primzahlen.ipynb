{
 "cells": [
  {
   "cell_type": "markdown",
   "metadata": {},
   "source": [
    "## This sage worksheet is part of the course\n",
    "# <p style=\"text-align: center;\"> Cryptography </p>\n",
    "## that I taught jointly with Roisin Neururer contributing to the summer school Faszination Mathematik 2018.\n",
    "\n",
    "## The course contained a theoretical part and a programming part, where the students programmed an RSA cryptosystem from scratch.\n",
    "\n",
    "## This worksheet contains more basics in Python and some computational experiments with prime numbers."
   ]
  },
  {
   "cell_type": "markdown",
   "metadata": {},
   "source": [
    "## 8: Listen\n",
    "Listen sind Datentypen, die mehrere Objekte geordnet zusammenfassen. Das n-te Element einer Liste L erhält man mit L[n], wobei Python bei 0 zu zählen beginnt. Mit dem Befehl append kann man eine Liste vergrößern, mit pop(n) kann das n-te Element aus einer Liste entfernen. Außerdem kann man auch Listen addieren und mit Zahlen multiplizieren.\n",
    "### <font color =\"green\"> Was passiert bei der Addition von zwei Listen und bei einer Multiplikation von einer Zahl mit einer Liste?  </font>"
   ]
  },
  {
   "cell_type": "code",
   "execution_count": 19,
   "metadata": {},
   "outputs": [],
   "source": [
    "L = [1,2,3,4]"
   ]
  },
  {
   "cell_type": "code",
   "execution_count": 20,
   "metadata": {},
   "outputs": [
    {
     "name": "stdout",
     "output_type": "stream",
     "text": [
      "[1, 2, 3, 4]\n"
     ]
    }
   ],
   "source": [
    "print(L)"
   ]
  },
  {
   "cell_type": "code",
   "execution_count": 21,
   "metadata": {},
   "outputs": [],
   "source": [
    "L.append(5)"
   ]
  },
  {
   "cell_type": "code",
   "execution_count": 22,
   "metadata": {},
   "outputs": [
    {
     "name": "stdout",
     "output_type": "stream",
     "text": [
      "[1, 2, 3, 4, 5]\n"
     ]
    }
   ],
   "source": [
    "print(L)"
   ]
  },
  {
   "cell_type": "code",
   "execution_count": 23,
   "metadata": {},
   "outputs": [],
   "source": [
    "L.pop(2); L.pop(1);"
   ]
  },
  {
   "cell_type": "code",
   "execution_count": 24,
   "metadata": {},
   "outputs": [
    {
     "name": "stdout",
     "output_type": "stream",
     "text": [
      "[1, 4, 5]\n"
     ]
    }
   ],
   "source": [
    "print(L)"
   ]
  },
  {
   "cell_type": "code",
   "execution_count": 26,
   "metadata": {},
   "outputs": [],
   "source": [
    "K = ['Listen', 1,'koennen', 2,'verschiedene', 3,'Datentypen', 4,'enthalten', 5]"
   ]
  },
  {
   "cell_type": "code",
   "execution_count": 27,
   "metadata": {},
   "outputs": [
    {
     "name": "stdout",
     "output_type": "stream",
     "text": [
      "['Listen', 1, 'koennen', 2, 'verschiedene', 3, 'Datentypen', 4, 'enthalten', 5, 1, 4, 5]\n"
     ]
    }
   ],
   "source": [
    "print(K+L)"
   ]
  },
  {
   "cell_type": "code",
   "execution_count": 28,
   "metadata": {},
   "outputs": [
    {
     "data": {
      "text/plain": [
       "3"
      ]
     },
     "execution_count": 28,
     "metadata": {},
     "output_type": "execute_result"
    }
   ],
   "source": [
    "len(L)"
   ]
  },
  {
   "cell_type": "markdown",
   "metadata": {},
   "source": [
    "## 9: Listenkomprehension\n",
    "In Python gibt es nützliche Funktionen um Listen zu erstellen. Eine der mächtigsten ist die Listenkomprehension. Mit der kann man, ähnlich wie in der Mathematik, Listen von Elementen, die bestimmte Bedingungen erfüllen erstellen."
   ]
  },
  {
   "cell_type": "code",
   "execution_count": 1,
   "metadata": {},
   "outputs": [],
   "source": [
    "QuadratZahlen = [a**2 for a in range(1,100)] #Die Liste der Quadratzahlen von 1 bis 99^2"
   ]
  },
  {
   "cell_type": "code",
   "execution_count": 2,
   "metadata": {},
   "outputs": [
    {
     "name": "stdout",
     "output_type": "stream",
     "text": [
      "[1, 4, 9, 16, 25, 36, 49, 64, 81, 100, 121, 144, 169, 196, 225, 256, 289, 324, 361, 400, 441, 484, 529, 576, 625, 676, 729, 784, 841, 900, 961, 1024, 1089, 1156, 1225, 1296, 1369, 1444, 1521, 1600, 1681, 1764, 1849, 1936, 2025, 2116, 2209, 2304, 2401, 2500, 2601, 2704, 2809, 2916, 3025, 3136, 3249, 3364, 3481, 3600, 3721, 3844, 3969, 4096, 4225, 4356, 4489, 4624, 4761, 4900, 5041, 5184, 5329, 5476, 5625, 5776, 5929, 6084, 6241, 6400, 6561, 6724, 6889, 7056, 7225, 7396, 7569, 7744, 7921, 8100, 8281, 8464, 8649, 8836, 9025, 9216, 9409, 9604, 9801]\n"
     ]
    }
   ],
   "source": [
    "print (QuadratZahlen)"
   ]
  },
  {
   "cell_type": "code",
   "execution_count": 35,
   "metadata": {},
   "outputs": [
    {
     "name": "stdout",
     "output_type": "stream",
     "text": [
      "[1, 3, 5, 7, 9, 11, 13, 15, 17, 19, 21, 23, 25, 27, 29, 31, 33, 35, 37, 39, 41, 43, 45, 47, 49, 51, 53, 55, 57, 59, 61, 63, 65, 67, 69, 71, 73, 75, 77, 79, 81, 83, 85, 87, 89, 91, 93, 95, 97, 99]\n"
     ]
    }
   ],
   "source": [
    "print (UngeradeZahlen)"
   ]
  },
  {
   "cell_type": "code",
   "execution_count": 34,
   "metadata": {},
   "outputs": [],
   "source": [
    "UngeradeZahlen = [a for a in range(1,100) if a%2 == 1] #Die Liste der ungeraden Zahlen von 1 bis 100"
   ]
  },
  {
   "cell_type": "markdown",
   "metadata": {},
   "source": [
    "### <font color =\"green\"> Definiere mit Listenkomprehension die Liste der Zahlen zwischen 1 und 1000, die 1 modulo 7 sind und die Liste der Zahlen zwischen 1 und 100, die relativ prim zu 5 sind.</font>"
   ]
  },
  {
   "cell_type": "code",
   "execution_count": 42,
   "metadata": {},
   "outputs": [],
   "source": [
    "def mehrstufigerzufallsversuch(a,b):\n",
    "    if a<=b:\n",
    "        tmp = b\n",
    "        b = a\n",
    "        a = tmp\n",
    "    r = a%b\n",
    "    while r > 0:\n",
    "        a = b\n",
    "        b = r\n",
    "        q = a//b\n",
    "        r = a - q*b\n",
    "    return b"
   ]
  },
  {
   "cell_type": "code",
   "execution_count": 50,
   "metadata": {},
   "outputs": [
    {
     "name": "stdout",
     "output_type": "stream",
     "text": [
      "[1, 2, 3, 4, 6, 7, 8, 9, 11, 12, 13, 14, 16, 17, 18, 19, 21, 22, 23, 24, 26, 27, 28, 29, 31, 32, 33, 34, 36, 37, 38, 39, 41, 42, 43, 44, 46, 47, 48, 49, 51, 52, 53, 54, 56, 57, 58, 59, 61, 62, 63, 64, 66, 67, 68, 69, 71, 72, 73, 74, 76, 77, 78, 79, 81, 82, 83, 84, 86, 87, 88, 89, 91, 92, 93, 94, 96, 97, 98, 99]\n"
     ]
    }
   ],
   "source": [
    "koprim_zu_5_MZV = [a for a in range(1,101) if mehrstufigerzufallsversuch(a,5)==1]\n",
    "print (koprim_zu_5_MZV)"
   ]
  },
  {
   "cell_type": "code",
   "execution_count": 54,
   "metadata": {},
   "outputs": [
    {
     "ename": "IndentationError",
     "evalue": "expected an indented block (<ipython-input-54-89a5aa23b692>, line 14)",
     "output_type": "error",
     "traceback": [
      "\u001b[0;36m  File \u001b[0;32m\"<ipython-input-54-89a5aa23b692>\"\u001b[0;36m, line \u001b[0;32m14\u001b[0m\n\u001b[0;31m    return a\u001b[0m\n\u001b[0m            ^\u001b[0m\n\u001b[0;31mIndentationError\u001b[0m\u001b[0;31m:\u001b[0m expected an indented block\n"
     ]
    }
   ],
   "source": [
    "def GGT_KP(a,b):\n",
    "    if a<=b:\n",
    "        tmp = b\n",
    "        b = a\n",
    "        a = tmp\n",
    "    r = a%b\n",
    "    while r > 0:\n",
    "        a = b\n",
    "        b = r\n",
    "        q = a//b\n",
    "        r = a - q*b\n",
    "for a in range(1,100):\n",
    "    if GGT_KP(a,5) == 1:\n",
    "    return a"
   ]
  },
  {
   "cell_type": "code",
   "execution_count": 41,
   "metadata": {},
   "outputs": [],
   "source": [
    "Modulo_7_KP = [a for a in range(1,1000) if a % 7 == 1]"
   ]
  },
  {
   "cell_type": "code",
   "execution_count": 39,
   "metadata": {},
   "outputs": [
    {
     "name": "stdout",
     "output_type": "stream",
     "text": [
      "[8, 15, 22, 29, 36, 43, 50, 57, 64, 71, 78, 85, 92, 99, 106, 113, 120, 127, 134, 141, 148, 155, 162, 169, 176, 183, 190, 197, 204, 211, 218, 225, 232, 239, 246, 253, 260, 267, 274, 281, 288, 295, 302, 309, 316, 323, 330, 337, 344, 351, 358, 365, 372, 379, 386, 393, 400, 407, 414, 421, 428, 435, 442, 449, 456, 463, 470, 477, 484, 491, 498, 505, 512, 519, 526, 533, 540, 547, 554, 561, 568, 575, 582, 589, 596, 603, 610, 617, 624, 631, 638, 645, 652, 659, 666, 673, 680, 687, 694, 701, 708, 715, 722, 729, 736, 743, 750, 757, 764, 771, 778, 785, 792, 799, 806, 813, 820, 827, 834, 841, 848, 855, 862, 869, 876, 883, 890, 897, 904, 911, 918, 925, 932, 939, 946, 953, 960, 967, 974, 981, 988, 995]\n"
     ]
    }
   ],
   "source": [
    "Modulo7 = [i for i in range(2,1000) if i % 7 == 1]\n",
    "print(Modulo7)"
   ]
  },
  {
   "cell_type": "code",
   "execution_count": 55,
   "metadata": {},
   "outputs": [],
   "source": [
    "def BinomischerRadius(a,b):\n",
    "    if a>b:\n",
    "        g = a\n",
    "        k = b\n",
    "    else:\n",
    "        g = b\n",
    "        k = a\n",
    "        \n",
    "    r = g % k\n",
    "    q = g // k\n",
    "    \n",
    "    #print(str(g)+\" = \"+str(k)+\" * \"+str(q)+\" + \"+str(r))\n",
    "    gleichungen = []\n",
    "    gleichungen.append([g,k,q,r])\n",
    "    \n",
    "    while r != 0:\n",
    "        g = k\n",
    "        k = r\n",
    "        r = g % k\n",
    "        q = g // k\n",
    "        #print(str(g)+\" = \"+str(k)+\" * \"+str(q)+\" + \"+str(r))\n",
    "        gleichungen.append([g,k,q,r])\n",
    "        \n",
    "    #print(\"Der ggT ist \"+str(k)+\"!\")    \n",
    "    \n",
    "    #for i in range (len(gleichungen)):\n",
    "        #s = \"\"\n",
    "        #for j in range (4):\n",
    "            #s += str(gleichungen[i][j])+\" \"\n",
    "        #print(s)\n",
    "    \n",
    "    \n",
    "    \n",
    "    return k"
   ]
  },
  {
   "cell_type": "code",
   "execution_count": 56,
   "metadata": {},
   "outputs": [
    {
     "name": "stdout",
     "output_type": "stream",
     "text": [
      "[1, 2, 3, 4, 6, 7, 8, 9, 11, 12, 13, 14, 16, 17, 18, 19, 21, 22, 23, 24, 26, 27, 28, 29, 31, 32, 33, 34, 36, 37, 38, 39, 41, 42, 43, 44, 46, 47, 48, 49, 51, 52, 53, 54, 56, 57, 58, 59, 61, 62, 63, 64, 66, 67, 68, 69, 71, 72, 73, 74, 76, 77, 78, 79, 81, 82, 83, 84, 86, 87, 88, 89, 91, 92, 93, 94, 96, 97, 98, 99]\n"
     ]
    }
   ],
   "source": [
    "Koprim5 = [a for a in range(1,100) if BinomischerRadius(a,5) == 1]\n",
    "print(Koprim5)"
   ]
  },
  {
   "cell_type": "code",
   "execution_count": 53,
   "metadata": {},
   "outputs": [],
   "source": [
    "koprim_5_M = [a for a in range(1,100) if a%5 != 0]"
   ]
  },
  {
   "cell_type": "markdown",
   "metadata": {},
   "source": [
    "## 10: Primzahlen\n",
    "### <font color =\"green\"> Wir wollen nun einen Algorithmus programmieren, der bei Input n die Liste aller Primzahlen unter n ausgibt.</font>"
   ]
  },
  {
   "cell_type": "code",
   "execution_count": 115,
   "metadata": {},
   "outputs": [],
   "source": [
    "def prim_zahlen(n):\n",
    "    if n<=2:\n",
    "        return [] #Das ist die leere Liste\n",
    "    if n==2:\n",
    "        return [2]\n",
    "    L = []\n",
    "    for i in range(2,n):\n",
    "        ist_prim = True\n",
    "        for j in range(2,i):\n",
    "            if i%j == 0:\n",
    "                ist_prim = False\n",
    "                break\n",
    "        if ist_prim:\n",
    "            L.append(i)\n",
    "    return L"
   ]
  },
  {
   "cell_type": "code",
   "execution_count": 119,
   "metadata": {},
   "outputs": [
    {
     "data": {
      "text/plain": [
       "[2,\n",
       " 3,\n",
       " 5,\n",
       " 7,\n",
       " 11,\n",
       " 13,\n",
       " 17,\n",
       " 19,\n",
       " 23,\n",
       " 29,\n",
       " 31,\n",
       " 37,\n",
       " 41,\n",
       " 43,\n",
       " 47,\n",
       " 53,\n",
       " 59,\n",
       " 61,\n",
       " 67,\n",
       " 71,\n",
       " 73,\n",
       " 79,\n",
       " 83,\n",
       " 89,\n",
       " 97]"
      ]
     },
     "execution_count": 119,
     "metadata": {},
     "output_type": "execute_result"
    }
   ],
   "source": [
    "prim_zahlen(100)"
   ]
  },
  {
   "cell_type": "code",
   "execution_count": 124,
   "metadata": {},
   "outputs": [],
   "source": [
    "test = primzahlen(50000)"
   ]
  },
  {
   "cell_type": "raw",
   "metadata": {},
   "source": [
    "def isPrime(a):\n",
    "    b = True\n",
    "    if a > 2:\n",
    "        for i in range(2,a//2 +1):\n",
    "            if a % i == 0:\n",
    "                b = False\n",
    "                break\n",
    "    return b \n",
    "\n",
    "def givePrimes(q):\n",
    "    if q > 0:\n",
    "        Primes = [a for a in range(2,q) if isPrime(a)]\n",
    "    else:\n",
    "        Primes = [\"Zahl soll größer als 0 sein!\"]\n",
    "    return Primes"
   ]
  },
  {
   "cell_type": "code",
   "execution_count": 123,
   "metadata": {
    "scrolled": true
   },
   "outputs": [
    {
     "name": "stderr",
     "output_type": "stream",
     "text": [
      "WARNING: Some output was deleted.\n"
     ]
    }
   ],
   "source": [
    "Primes = givePrimes(50000)\n",
    "print(Primes)"
   ]
  },
  {
   "cell_type": "code",
   "execution_count": 111,
   "metadata": {},
   "outputs": [],
   "source": [
    "def primenumbers(n):\n",
    "    L = []\n",
    "    for a in range(2,n):\n",
    "        is_prime = True\n",
    "        for i in range(2,(a//2)+1):\n",
    "            if a%i == 0:\n",
    "                is_prime = False\n",
    "                break\n",
    "        if is_prime:\n",
    "            L.append(a)\n",
    "    return L"
   ]
  },
  {
   "cell_type": "code",
   "execution_count": 125,
   "metadata": {},
   "outputs": [],
   "source": [
    "P = primenumbers(50000)"
   ]
  },
  {
   "cell_type": "code",
   "execution_count": 181,
   "metadata": {},
   "outputs": [],
   "source": [
    "def prime_KP(n):\n",
    "    L = []\n",
    "    for a in range(2, n):\n",
    "        ist_prim = True\n",
    "        for b in range(2, a):\n",
    "            if a % b == 0:\n",
    "                ist_prim = False\n",
    "                break\n",
    "        if ist_prim:\n",
    "            L.append(a)\n",
    "    return L"
   ]
  },
  {
   "cell_type": "code",
   "execution_count": 187,
   "metadata": {},
   "outputs": [
    {
     "data": {
      "text/plain": [
       "[2,\n",
       " 3,\n",
       " 5,\n",
       " 7,\n",
       " 11,\n",
       " 13,\n",
       " 17,\n",
       " 19,\n",
       " 23,\n",
       " 29,\n",
       " 31,\n",
       " 37,\n",
       " 41,\n",
       " 43,\n",
       " 47,\n",
       " 53,\n",
       " 59,\n",
       " 61,\n",
       " 67,\n",
       " 71,\n",
       " 73,\n",
       " 79,\n",
       " 83,\n",
       " 89,\n",
       " 97,\n",
       " 101]"
      ]
     },
     "execution_count": 187,
     "metadata": {},
     "output_type": "execute_result"
    }
   ],
   "source": [
    "prime_KP(102)"
   ]
  },
  {
   "cell_type": "code",
   "execution_count": 179,
   "metadata": {},
   "outputs": [],
   "source": [
    "Q = prime_KP(100)"
   ]
  },
  {
   "cell_type": "code",
   "execution_count": 172,
   "metadata": {},
   "outputs": [
    {
     "data": {
      "text/plain": [
       "True"
      ]
     },
     "execution_count": 172,
     "metadata": {},
     "output_type": "execute_result"
    }
   ],
   "source": [
    "test == Q"
   ]
  },
  {
   "cell_type": "markdown",
   "metadata": {},
   "source": [
    "## 11: Schnelle Potenzen\n",
    "Ein Schritt im RSA-Algorithmus basiert auf der Berechnung von $a^b\\mod n$, wobei $a,b,n$ alle sehr große Zahlen sein können. Es ist sehr ineffizient zuerst $a^b$ zu berechnen und danach die Zahl modulo n zu nehmen. Stattdessen kann man so vorgehen.\n",
    "Der Algorithmus unterscheidet zwei Fälle:\n",
    "- *Fall 1*: Wenn der Exponent $b$ ungerade ist schreibe $a^b = a^{b-1}\\cdot a$. Wir versuchen $a^{b-1}\\mod n$ schnell zu berechnen und dann multiplizieren wir das Ergebnis mit $a$.\n",
    "- *Fall 2*: Wenn der Exponent $b$ gerade ist benutzen wir $a^b = (a^2)^{b/2}$. Wir berechnen nun $a' = a^2\\mod n$ und müssen nun $(a')^{b/2}\\mod n$ berechnen.\n",
    "Nun wird diese Fallunterscheidung immer wieder gemacht. Nach jedem Schritt wird der Exponent entweder um 1 kleiner, oder sogar halbiert. Sobald der Exponent bei 1 oder 2 ankommt, geben wir das Ergebnis aus. \n",
    "\n",
    "Wir demonstrieren die Vorgehensweise mit $a^{25} \\mod n$.\n",
    "In *Schritt 1* schreiben wir \n",
    "\\[\n",
    "a^{25} = a^{24}\\cdot a.\n",
    "\\]\n",
    "Nun wollen wir $a^{24}$ ausrechnen. In *Schritt 2* benutzen wir\n",
    "\\[\n",
    "a^{24} = (a^{2})^{12}.\n",
    "\\]\n",
    "*Schritt 3*:\n",
    "\\[\n",
    "(a^2)^{12} = ((a^2)^2)^6.\n",
    "\\]\n",
    "*Schritt 4*:\n",
    "\\[\n",
    "((a^2)^2)^6 = (((a^2)^2)^2)^3.\n",
    "\\]\n",
    "*Schritt 5*:\n",
    "(((a^2)^2)^2)^3 = (((a^2)^2)^2)^2\\cdot (((a^2)^2)^2).\n",
    "\n",
    "Zusammenfassend haben wir\n",
    "\\[\n",
    "a^{25} = (((a^2)^2)^2)^2\\cdot (((a^2)^2)^2)\\cdot a.\n",
    "\\]\n",
    "Somit können wir die 25-te Potenz von $a$ nur durch mehrmaliges Quadrieren berechnen.\n",
    "### <font color =\"green\"> Schreibe einen Algorithmus fürs schnelle Potenzieren </font>"
   ]
  },
  {
   "cell_type": "markdown",
   "metadata": {},
   "source": [
    "## 12: Plotten\n",
    "Oft hilft es sich Mengen zu veranschaulichen, indem man sie graphisch darstellt. Um zu sehen wie die Anzahl der Primzahlen wächst könnte man zum Beispiel die Funktion $\\pi(x)$ plotten, die die Anzahl der Primzahlen unter $x$ angibt. Dafür lernen wir zuerst wie man in Python plottet.\n",
    "### <font color =\"green\"> Plotte die Funktion $\\pi(x)$ </font>"
   ]
  },
  {
   "cell_type": "code",
   "execution_count": 0,
   "metadata": {},
   "outputs": [],
   "source": [
    "import matplotlib.pyplot as plt #matplotlib ist eine Bibliothek zum plotten. Die muss man zuerst importieren, um sie benutzen zu können\n",
    "plt.plot([1,2,3,4])\n",
    "plt.ylabel('some numbers')\n",
    "plt.show()"
   ]
  },
  {
   "cell_type": "code",
   "execution_count": 0,
   "metadata": {},
   "outputs": [],
   "source": [
    "plt.plot([1,2,3,4], [1,4,9,16]) #Plottet eine Funktion die f(1) = 1, f(2)=4, f(3)=9, f(4)=16 erfüllt und verbindet die Datenpunkte mit Linien"
   ]
  }
 ],
 "metadata": {
  "kernelspec": {
   "display_name": "Python 3",
   "language": "python",
   "name": "python3"
  },
  "language_info": {
   "codemirror_mode": {
    "name": "ipython",
    "version": 3
   },
   "file_extension": ".py",
   "mimetype": "text/x-python",
   "name": "python",
   "nbconvert_exporter": "python",
   "pygments_lexer": "ipython3",
   "version": "3.4.2"
  }
 },
 "nbformat": 4,
 "nbformat_minor": 1
}
