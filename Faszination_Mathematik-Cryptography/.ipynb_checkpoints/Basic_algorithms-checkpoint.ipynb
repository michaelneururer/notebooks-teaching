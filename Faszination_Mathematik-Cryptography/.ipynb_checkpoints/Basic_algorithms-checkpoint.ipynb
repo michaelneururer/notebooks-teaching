{
 "cells": [
  {
   "cell_type": "markdown",
   "metadata": {},
   "source": [
    "## This sage worksheet is part of the course\n",
    "# <p style=\"text-align: center;\"> Cryptography </p>\n",
    "## that I taught jointly with Roisin Neururer contributing to the summer school Faszination Mathematik 2018.\n",
    "\n",
    "## The files in this worksheet were not distributed to the students. The students learned and programmed all the algorithms below from scratch."
   ]
  },
  {
   "cell_type": "code",
   "execution_count": null,
   "metadata": {},
   "outputs": [],
   "source": [
    "def euklidscher_alg(a,b):\n",
    "    a = abs(a)\n",
    "    b = abs(b)\n",
    "    if a == 0 or b == 0:\n",
    "        return a+b\n",
    "    if a < b:\n",
    "        tmp = a\n",
    "        a = b\n",
    "        b = tmp\n",
    "    r = a%b\n",
    "    if r > 0:\n",
    "        return euclidean_alg(r,b)\n",
    "    if r == 0:\n",
    "        return b"
   ]
  },
  {
   "cell_type": "code",
   "execution_count": null,
   "metadata": {},
   "outputs": [],
   "source": [
    "def euklidscher_alg_erweitert(a,b):\n",
    "    a = abs(a)\n",
    "    b = abs(b)\n",
    "    if a == 0:\n",
    "        return [0,1,b]\n",
    "    if b == 0:\n",
    "        return [1,0,a]\n",
    "    r = [max(a,b), min(a,b), max(a,b)%min(a,b)]\n",
    "    qk = max(a,b)//min(a,b)\n",
    "    x = [1,0,1]\n",
    "    y = [0,1,-qk]\n",
    "    while r[2] > 0:\n",
    "        print(qk,r)\n",
    "        print(x,y)\n",
    "        qk = r[1]//r[2]\n",
    "        r = [r[1],r[2],r[1]%r[2]]\n",
    "        x = [x[1],x[2],x[1]-qk*x[2]]\n",
    "        y = [y[1],y[2],y[1]-qk*y[2]]\n",
    "    if max(a,b)==a:\n",
    "        return x[1],y[1],r[1]    \n",
    "    else:\n",
    "        return y[1],x[1],r[1]"
   ]
  },
  {
   "cell_type": "code",
   "execution_count": null,
   "metadata": {},
   "outputs": [],
   "source": [
    "# import math; math.gcd(1232,413244)"
   ]
  },
  {
   "cell_type": "code",
   "execution_count": null,
   "metadata": {},
   "outputs": [],
   "source": [
    "def primes(n):\n",
    "    primfac = []\n",
    "    d = 2\n",
    "    while d*d <= n:\n",
    "        while (n % d) == 0:\n",
    "            primfac.append(d)  # supposing you want multiple factors repeated\n",
    "            n //= d\n",
    "        d += 1\n",
    "    if n > 1:\n",
    "       primfac.append(n)\n",
    "    return primfac"
   ]
  },
  {
   "cell_type": "code",
   "execution_count": null,
   "metadata": {},
   "outputs": [],
   "source": [
    "def primzahlen(n):\n",
    "    if n<=2:\n",
    "        return [] #Das ist die leere Liste\n",
    "    if n==2:\n",
    "        return [2]\n",
    "    L = []\n",
    "    for i in range(2,n):\n",
    "        ist_prim = True\n",
    "        for j in range(2,i):\n",
    "            if i%j == 0:\n",
    "                ist_prim = False\n",
    "                break\n",
    "        if ist_prim:\n",
    "            L.append(i)\n",
    "    return L"
   ]
  },
  {
   "cell_type": "code",
   "execution_count": null,
   "metadata": {},
   "outputs": [],
   "source": [
    "def primes_sieve2(limit):\n",
    "    a = [True] * limit                          # Initialize the primality list\n",
    "    a[0] = a[1] = False\n",
    "\n",
    "    for (i, isprime) in enumerate(a):\n",
    "        if isprime:\n",
    "            yield i\n",
    "            for n in xrange(i*i, limit, i):     # Mark factors non-prime\n",
    "                a[n] = False"
   ]
  },
  {
   "cell_type": "code",
   "execution_count": null,
   "metadata": {},
   "outputs": [],
   "source": [
    "#Random integer\n",
    "from random import randint\n",
    "print(randint(0, 9))"
   ]
  },
  {
   "cell_type": "code",
   "execution_count": null,
   "metadata": {},
   "outputs": [],
   "source": [
    "#Fast exponentiation\n",
    "def fast_power(base, power):\n",
    "    \"\"\"\n",
    "    Returns the result of a^b i.e. a**b\n",
    "    We assume that a >= 1 and b >= 0\n",
    "\n",
    "    Remember two things!\n",
    "     - Divide power by 2 and multiply base to itself (if the power is even)\n",
    "     - Decrement power by 1 to make it even and then follow the first step\n",
    "    \"\"\"\n",
    "\n",
    "    result = 1\n",
    "    while power > 0:\n",
    "        # If power is even\n",
    "        if power % 2 == 0:\n",
    "            # Divide the power by 2\n",
    "            power = power / 2\n",
    "            # Multiply base to itself\n",
    "            base = base * base\n",
    "        else:\n",
    "            # Decrement the power by 1 and make it even\n",
    "            power = power - 1\n",
    "            # Take care of the extra value that we took out\n",
    "            # We will store it directly in result\n",
    "            result = result * base\n",
    "\n",
    "            # Now power is even, so we can follow our previous procedure\n",
    "            power = power / 2\n",
    "            base = base * base"
   ]
  }
 ],
 "metadata": {
  "kernelspec": {
   "display_name": "Python 3",
   "language": "python",
   "name": "python3"
  },
  "language_info": {
   "codemirror_mode": {
    "name": "ipython",
    "version": 3
   },
   "file_extension": ".py",
   "mimetype": "text/x-python",
   "name": "python",
   "nbconvert_exporter": "python",
   "pygments_lexer": "ipython3",
   "version": "3.4.2"
  }
 },
 "nbformat": 4,
 "nbformat_minor": 1
}
