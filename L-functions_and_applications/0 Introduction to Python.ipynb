{
 "cells": [
  {
   "cell_type": "markdown",
   "metadata": {},
   "source": [
    "# Introduction to Python"
   ]
  },
  {
   "cell_type": "markdown",
   "metadata": {},
   "source": [
    "## Hello world "
   ]
  },
  {
   "cell_type": "code",
   "execution_count": null,
   "metadata": {},
   "outputs": [],
   "source": [
    "print('Hello World!')"
   ]
  },
  {
   "cell_type": "markdown",
   "metadata": {},
   "source": [
    "## 2: Variables\n",
    "In Python it is not necessary to specify a type of a variable, it is deduced from its value"
   ]
  },
  {
   "cell_type": "code",
   "execution_count": null,
   "metadata": {},
   "outputs": [],
   "source": [
    "a = 2"
   ]
  },
  {
   "cell_type": "code",
   "execution_count": null,
   "metadata": {},
   "outputs": [],
   "source": [
    "b = 3"
   ]
  },
  {
   "cell_type": "code",
   "execution_count": null,
   "metadata": {},
   "outputs": [],
   "source": [
    "c = 'Hello world'"
   ]
  },
  {
   "cell_type": "code",
   "execution_count": null,
   "metadata": {},
   "outputs": [],
   "source": [
    "d = '!'"
   ]
  },
  {
   "cell_type": "code",
   "execution_count": null,
   "metadata": {},
   "outputs": [],
   "source": [
    "print('With print you can also print variables of mixed types', a,b,c)"
   ]
  },
  {
   "cell_type": "markdown",
   "metadata": {},
   "source": [
    "## Calculating with variables\n",
    "Every variable has a type. For example a and b have the type int (which stands for integers) and c and d have the type str (strings). Depending on the types of the variables the basic operators +, *, ^ do different things. \n",
    "\n",
    "### <font color =\"green\"> Try out these operators </font>"
   ]
  },
  {
   "cell_type": "code",
   "execution_count": null,
   "metadata": {},
   "outputs": [],
   "source": [
    "type(a)"
   ]
  },
  {
   "cell_type": "code",
   "execution_count": null,
   "metadata": {},
   "outputs": [],
   "source": [
    "type(c)"
   ]
  },
  {
   "cell_type": "code",
   "execution_count": null,
   "metadata": {},
   "outputs": [],
   "source": [
    "a+b"
   ]
  },
  {
   "cell_type": "code",
   "execution_count": null,
   "metadata": {},
   "outputs": [],
   "source": [
    "10*c"
   ]
  },
  {
   "cell_type": "markdown",
   "metadata": {},
   "source": [
    "## 3: if statements\n",
    "Below you find an example for an if statement. Note that the indentation is part of the code in Python.\n",
    "### <font color =\"green\"> Change the variable test, so that the output of the if statement is 'Success!' </font>"
   ]
  },
  {
   "cell_type": "code",
   "execution_count": null,
   "metadata": {},
   "outputs": [],
   "source": [
    "test = 'WrongPassword'"
   ]
  },
  {
   "cell_type": "code",
   "execution_count": null,
   "metadata": {},
   "outputs": [],
   "source": [
    "if test == 'WrongPassword':\n",
    "    print('Wrong!')\n",
    "elif test == 'Another wrong password':\n",
    "    print('Wrong again!')\n",
    "else:\n",
    "    print('Success!')"
   ]
  },
  {
   "cell_type": "markdown",
   "metadata": {},
   "source": [
    "## 4: Loops\n",
    "Below you find some examples of for loops and while loops. Again, indentation matters!\n",
    "## <font color =\"green\"> Write a for loop that prints all squares from 1 to 1000 </font>"
   ]
  },
  {
   "cell_type": "code",
   "execution_count": null,
   "metadata": {},
   "outputs": [],
   "source": [
    "for i in range(100):\n",
    "    if i%2 == 1:\n",
    "        print(i)"
   ]
  },
  {
   "cell_type": "code",
   "execution_count": null,
   "metadata": {
    "scrolled": true
   },
   "outputs": [],
   "source": [
    "k = 1\n",
    "while k < 10:\n",
    "    print('k is ', k)\n",
    "    print('If we multiply k by 2 we get', 2*k)\n",
    "    k = 2*k"
   ]
  },
  {
   "cell_type": "markdown",
   "metadata": {},
   "source": [
    "## 5: Functions\n",
    "Functions take one or several input values and return an output. SageMath and Python have many inbuilt functions, such as the type function above but it will be useful to write our own functions.\n",
    "\n",
    "## Write the following functions:\n",
    "### <font color =\"green\"> is_prime(x) return true if x is a prime number and false otherwise.  </font>\n",
    "### <font color =\"green\"> division_with_remainder(a,b) returns q,r such that a = qb + r and $0\\leq r<b$</font>\n",
    "### <font color =\"green\"> my_gcd(a,b) returns the gcd of a and b </font>"
   ]
  },
  {
   "cell_type": "code",
   "execution_count": null,
   "metadata": {},
   "outputs": [],
   "source": [
    "#This function tests if a number is a square\n",
    "def square(k):\n",
    "    for i in range(k):\n",
    "        if i**2 == k:\n",
    "            return True\n",
    "    return False"
   ]
  },
  {
   "cell_type": "code",
   "execution_count": null,
   "metadata": {},
   "outputs": [],
   "source": [
    "#This function returns the sum of the squares of x and y\n",
    "def sum_of_squares(x,y):\n",
    "    return x**2 + y**2"
   ]
  },
  {
   "cell_type": "markdown",
   "metadata": {},
   "source": [
    "## 8: Lists\n",
    "Listen are datatypes that collect multiple ordered elements. If L is a list you get the n-th element of L as L[n]. Note that Python starts counting at 0. With L.append(x) you can add an element x to L, with L.pop(n) you remove the n-th element from the list.\n",
    "### <font color =\"green\"> What happens when you add two lists or multiply a list by a number?  </font>"
   ]
  },
  {
   "cell_type": "code",
   "execution_count": null,
   "metadata": {},
   "outputs": [],
   "source": [
    "K = ['Lists', 1, 'can', 2, 'contain', 3, 'different datatypes']"
   ]
  },
  {
   "cell_type": "code",
   "execution_count": null,
   "metadata": {},
   "outputs": [],
   "source": [
    "print(K)"
   ]
  },
  {
   "cell_type": "code",
   "execution_count": null,
   "metadata": {},
   "outputs": [],
   "source": [
    "len(K) #Returns the number of elements in K"
   ]
  },
  {
   "cell_type": "markdown",
   "metadata": {},
   "source": [
    "## 9: List comprehension\n",
    "There are various ways of creating lists in python. A very powerful one is called list comprehension. With list comprehension you can define lists in a very mathematical fashion, by choosing elements from other lists that satisfy certain properties."
   ]
  },
  {
   "cell_type": "code",
   "execution_count": null,
   "metadata": {},
   "outputs": [],
   "source": [
    "squares = [a^2 for a in range(1,100)] #The list of squares from 1 to 99^2"
   ]
  },
  {
   "cell_type": "code",
   "execution_count": null,
   "metadata": {},
   "outputs": [],
   "source": [
    "odd_numbers = [a for a in range(1,1000) if a%2==1] #The list of odd numbers from 1 to 999"
   ]
  },
  {
   "cell_type": "markdown",
   "metadata": {},
   "source": [
    "## 10: Help and tab completion\n",
    "If you need help with a function you can type the function name followed by a question sign. SageMath supports tab completion which allows you to start typing a function name and pressing 'tab' to see all functions that start with what you typed. Try it!"
   ]
  },
  {
   "cell_type": "code",
   "execution_count": null,
   "metadata": {},
   "outputs": [],
   "source": [
    "import math"
   ]
  },
  {
   "cell_type": "code",
   "execution_count": null,
   "metadata": {},
   "outputs": [],
   "source": [
    "math.log?"
   ]
  },
  {
   "cell_type": "code",
   "execution_count": null,
   "metadata": {},
   "outputs": [],
   "source": [
    "math. #Use tab completion to check the functions in the math package"
   ]
  }
 ],
 "metadata": {
  "kernelspec": {
   "display_name": "Python 3",
   "language": "python",
   "name": "python3"
  },
  "language_info": {
   "codemirror_mode": {
    "name": "ipython",
    "version": 3
   },
   "file_extension": ".py",
   "mimetype": "text/x-python",
   "name": "python",
   "nbconvert_exporter": "python",
   "pygments_lexer": "ipython3",
   "version": "3.4.2"
  }
 },
 "nbformat": 4,
 "nbformat_minor": 1
}
