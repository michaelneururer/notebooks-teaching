{
 "cells": [
  {
   "cell_type": "markdown",
   "metadata": {},
   "source": [
    "## This sage worksheet is part of the exercise class for the course\n",
    "# <p style=\"text-align: center;\"> L-functions and applications </p>\n",
    "## that I taught jointly with Jolanta Marzec in the summer semester 2019. For more material on the course such as lecture notes and more exercise sheets, see [my website](https://www.mathematik.tu-darmstadt.de/fb/personal/details/michael_neururer.en.jsp)."
   ]
  },
  {
   "cell_type": "markdown",
   "metadata": {},
   "source": [
    "### <font color =\"green\"> Requirements: SageMath. </font>"
   ]
  },
  {
   "cell_type": "markdown",
   "metadata": {},
   "source": [
    "# <p style=\"text-align: center;\"> Worksheet 6: Chebotarev's density theorem </p>"
   ]
  },
  {
   "cell_type": "code",
   "execution_count": 0,
   "metadata": {},
   "outputs": [],
   "source": [
    "D = [cydcle_frequencies(cycle_counts(Q,10000),Q.degree()) for Q in [P1,P2,P3,P4,P5,P6,P7]]; D"
   ]
  },
  {
   "cell_type": "code",
   "execution_count": 3,
   "metadata": {},
   "outputs": [],
   "source": [
    "def closest_int(x):\n",
    "    #Returns closest integer to x. If x is in ZZ + 1/2, then we return x-1/2\n",
    "    if min(x-x.floor(),x.ceil()-x) == x-x.floor():\n",
    "        return x.floor()\n",
    "    else:\n",
    "        return x.ceil()\n",
    "    \n",
    "def cycle_type(P,p):\n",
    "    \"\"\"\n",
    "    Calculates the cycle type of a polynomial P modulo p. For example X^2 * (X^2+1)^3 has cycle type (1,1,2,2,2) because it has two factors of degree 1 and three of degree 2.\n",
    "    INPUT:\n",
    "        -P, polynomial\n",
    "        -p, prime\n",
    "    OUTPUT:\n",
    "        Cycle type of P modulo p\n",
    "    \"\"\"\n",
    "    Q = P.factor_mod(p)\n",
    "    L = [[q[0].degree()]*q[1] for q in Q]\n",
    "    L.reverse()\n",
    "    return [cycle for l in L for cycle in l]\n",
    "\n",
    "def cycle_counts(P,N):\n",
    "    \"\"\"\n",
    "    Counts the number of appearances of each cycle type of the reduction of P modulo p for every prime p < N\n",
    "    INPUT: \n",
    "        - P, a polynomial\n",
    "        - N, an integer\n",
    "    \n",
    "    \"\"\"\n",
    "    D = {}\n",
    "    for p in primes(N):\n",
    "        C = cycle_type(P,p)\n",
    "        try:\n",
    "            D[str(C)] += 1\n",
    "        except KeyError:\n",
    "            D[str(C)] = 1\n",
    "    return D"
   ]
  },
  {
   "cell_type": "markdown",
   "metadata": {},
   "source": [
    "# Lets try out Chebotarev's theorem on some degree three polynomials"
   ]
  },
  {
   "cell_type": "code",
   "execution_count": 0,
   "metadata": {},
   "outputs": [],
   "source": [
    "Pol.<x> = PolynomialRing(ZZ)"
   ]
  },
  {
   "cell_type": "code",
   "execution_count": 0,
   "metadata": {},
   "outputs": [],
   "source": [
    "P = (x^3 + 3*x^2 + 7*x + 4)"
   ]
  },
  {
   "cell_type": "code",
   "execution_count": 0,
   "metadata": {},
   "outputs": [],
   "source": [
    "Q = P.factor_mod(2);Q"
   ]
  },
  {
   "cell_type": "markdown",
   "metadata": {},
   "source": [
    "### We calculate the frequencies of the appearance of each cycle for P modulo the first 1000 primes"
   ]
  },
  {
   "cell_type": "code",
   "execution_count": 0,
   "metadata": {},
   "outputs": [],
   "source": [
    "N = 1000"
   ]
  },
  {
   "cell_type": "code",
   "execution_count": 0,
   "metadata": {},
   "outputs": [],
   "source": [
    "D = cycle_counts(P,N); D"
   ]
  },
  {
   "cell_type": "code",
   "execution_count": 0,
   "metadata": {},
   "outputs": [],
   "source": [
    "for d in D.keys():\n",
    "    print d, RR(D[d]/len(list(primes(N))))"
   ]
  },
  {
   "cell_type": "markdown",
   "metadata": {},
   "source": [
    "So (approximately) for $\\frac13$ of the primes $P$ is irreducible, for $\\frac12$ of the primes it has cycle type $(1,2)$ and for $\\frac16$ of the primes it has cycle type $(1,1,1)$"
   ]
  },
  {
   "cell_type": "markdown",
   "metadata": {},
   "source": [
    "The function cycle_frequencies approximates these frequencies by appropriate fractions:"
   ]
  },
  {
   "cell_type": "markdown",
   "metadata": {},
   "source": [
    "Now let's do this for a couple of polynomials of degree 3"
   ]
  },
  {
   "cell_type": "code",
   "execution_count": 0,
   "metadata": {},
   "outputs": [],
   "source": [
    "poly_list = []\n",
    "i = 0\n",
    "while i<10:\n",
    "    quad_part = Pol.random_element(2)\n",
    "    i+=1\n",
    "    poly_list.append(x^3+quad_part)"
   ]
  },
  {
   "cell_type": "code",
   "execution_count": 0,
   "metadata": {},
   "outputs": [],
   "source": [
    "poly_list"
   ]
  },
  {
   "cell_type": "code",
   "execution_count": 0,
   "metadata": {},
   "outputs": [],
   "source": [
    "for p in poly_list:\n",
    "    print 'new polynomial!', p\n",
    "    D = cycle_counts(p,N);\n",
    "    for d in D.keys():\n",
    "        print d, RR(D[d]/len(list(primes(N))))"
   ]
  },
  {
   "cell_type": "markdown",
   "metadata": {},
   "source": [
    "## Exercise: What possibilities are there for frequencies of cycle types?"
   ]
  },
  {
   "cell_type": "markdown",
   "metadata": {},
   "source": [
    "## Exercise: Use Chebotarev's density theorem to find experimentally the Galois groups of the splitting fields of the polynomials P1,P2,P3,P4,P5, P6, P7\n",
    "\n",
    "### <font color =\"green\"> You are allowed to use the <a href = https://groupprops.subwiki.org/wiki/Subgroup_structure_of_symmetric_group:S4> subgroup structure </a> of $S_4$ and <a href = https://groupprops.subwiki.org/wiki/Subgroup_structure_of_symmetric_group:S5> subgroup structure </a> of $S_5$. Note that Galois groups have to be transitive subgroups, so they must have order divisible by the degree of the polynomial whose splitting field you look at.  </font>"
   ]
  },
  {
   "cell_type": "code",
   "execution_count": 0,
   "metadata": {},
   "outputs": [],
   "source": [
    "P1 = x^3 + 3*x + 108\n",
    "P2 = x^4 + 8*x + 12\n",
    "P3 = x^4+ 2*x+ 2\n",
    "P4 = x^4+ 36*x+ 63\n",
    "P5 = x^5 + 2*x^4 - 3*x^3 + 1\n",
    "P6 = x^5 + 32*x^3 + x^2 + 31*x + 31\n",
    "P7 = x^6+ 15*x^2+ 18*x-20"
   ]
  }
 ],
 "metadata": {
  "kernelspec": {
   "display_name": "SageMath 8.9",
   "language": "sage",
   "name": "sagemath"
  },
  "language_info": {
   "codemirror_mode": {
    "name": "ipython",
    "version": 2
   },
   "file_extension": ".py",
   "mimetype": "text/x-python",
   "name": "python",
   "nbconvert_exporter": "python",
   "pygments_lexer": "ipython2",
   "version": "2.7.15"
  }
 },
 "nbformat": 4,
 "nbformat_minor": 1
}
