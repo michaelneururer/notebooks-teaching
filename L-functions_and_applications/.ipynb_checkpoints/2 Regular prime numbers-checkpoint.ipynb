{
 "cells": [
  {
   "cell_type": "markdown",
   "metadata": {},
   "source": [
    "## This sage worksheet is part of the exercise class for the course\n",
    "# <p style=\"text-align: center;\"> L-functions and applications </p>\n",
    "## that I taught jointly with Jolanta Marzec in the summer semester 2019. For more material on the course such as lecture notes and more exercise sheets, see [my website](https://www.mathematik.tu-darmstadt.de/fb/personal/details/michael_neururer.en.jsp)."
   ]
  },
  {
   "cell_type": "markdown",
   "metadata": {},
   "source": [
    "### <font color =\"green\"> Requirements: SageMath. </font>"
   ]
  },
  {
   "cell_type": "markdown",
   "metadata": {},
   "source": [
    "# <p style=\"text-align: center;\"> Worksheet 2: Regular prime numbers </p>"
   ]
  },
  {
   "cell_type": "markdown",
   "metadata": {},
   "source": [
    "Kummer proved Fermat Last Theorem for $n=p$ being regular prime numbers. The other primes were related to obstacles to his proof.\n",
    "\n",
    "<font color =\"purple\"> An odd prime number $p$ is regular if $p$ does not divide a class number of a cyclotomic field $Q(\\zeta_p)$</font>, \n",
    "\n",
    "where $\\zeta_p$ is p-th root of unity; otherwise $p$ is called irregular."
   ]
  },
  {
   "cell_type": "markdown",
   "metadata": {},
   "source": [
    "## <font color =\"teal\"> Short explanation</font>\n",
    "\n",
    "Recall that, for an **algebraic number field** $K$, i.e. $K=Q(x)/f(x)\\cong Q(a)$ for some monic polynomial $f$ with $f(a)=0, a\\in C$,"
   ]
  },
  {
   "cell_type": "code",
   "execution_count": 2,
   "metadata": {},
   "outputs": [
    {
     "data": {
      "text/plain": [
       "Number Field in a with defining polynomial x^2 + 15"
      ]
     },
     "execution_count": 2,
     "metadata": {},
     "output_type": "execute_result"
    }
   ],
   "source": [
    "# Example\n",
    "R.<x> = PolynomialRing(Rationals())\n",
    "K.<a> = NumberField(x^2+15)\n",
    "K"
   ]
  },
  {
   "cell_type": "markdown",
   "metadata": {},
   "source": [
    "with **ring of integers** $O_K$,"
   ]
  },
  {
   "cell_type": "code",
   "execution_count": 3,
   "metadata": {},
   "outputs": [
    {
     "name": "stdout",
     "output_type": "stream",
     "text": [
      "Maximal Order in Number Field in a with defining polynomial x^2 + 15\n"
     ]
    },
    {
     "data": {
      "text/plain": [
       "[1/2*a + 1/2, a]"
      ]
     },
     "execution_count": 3,
     "metadata": {},
     "output_type": "execute_result"
    }
   ],
   "source": [
    "OK = K.maximal_order()\n",
    "print OK\n",
    "OK.basis()"
   ]
  },
  {
   "cell_type": "markdown",
   "metadata": {},
   "source": [
    "the **ideal class group** of $K$ is defined as $Cl_K=J_K/P_K$, where $J_K=\\left\\{(a_1,\\ldots ,a_n)O_K:a_i\\in K, a_i\\neq 0, n\\in N\\right\\}$ and $P_K=\\left\\{ (a)O_K:a\\in K\\backslash\\left\\{ 0\\right\\}\\right\\}$, and its **class number** is $\\#Cl_K$"
   ]
  },
  {
   "cell_type": "code",
   "execution_count": 4,
   "metadata": {},
   "outputs": [
    {
     "name": "stdout",
     "output_type": "stream",
     "text": [
      "Class group of order 2 with structure C2 of Number Field in a with defining polynomial x^2 + 15\n",
      "(Fractional ideal class (2, 1/2*a + 1/2),)\n",
      "(Fractional ideal (2, 1/2*a + 1/2),)\n"
     ]
    },
    {
     "data": {
      "text/plain": [
       "2"
      ]
     },
     "execution_count": 4,
     "metadata": {},
     "output_type": "execute_result"
    }
   ],
   "source": [
    "# Example\n",
    "cl = K.class_group()\n",
    "h = K.class_number()\n",
    "print cl\n",
    "print cl.gens()\n",
    "print cl.gens_ideals()\n",
    "h"
   ]
  },
  {
   "cell_type": "markdown",
   "metadata": {},
   "source": [
    "## Exercise 1)\n",
    "The ring of integers of a number field with class number $1$ is a **unique factorisation domain**. Check that $K = \\mathbb{Q}(\\sqrt{-5})$ has class number $2$ and find a counter example to unique factorisation in the ring of integers of $K$.\n"
   ]
  },
  {
   "cell_type": "code",
   "execution_count": 0,
   "metadata": {},
   "outputs": [],
   "source": []
  },
  {
   "cell_type": "markdown",
   "metadata": {},
   "source": [
    "## <font color =\"teal\">**Experiment!**</font> Change the number field above, run all the cells and observe the outcome."
   ]
  },
  {
   "cell_type": "markdown",
   "metadata": {},
   "source": [
    "In order to define $K=Q(x)/f(x)$ where $f$ is a monic polynomial of a $p$-th root of unity, write"
   ]
  },
  {
   "cell_type": "code",
   "execution_count": 14,
   "metadata": {},
   "outputs": [
    {
     "data": {
      "text/plain": [
       "Cyclotomic Field of order 5 and degree 4"
      ]
     },
     "execution_count": 14,
     "metadata": {},
     "output_type": "execute_result"
    }
   ],
   "source": [
    "p=5\n",
    "K = CyclotomicField(p)\n",
    "K"
   ]
  },
  {
   "cell_type": "markdown",
   "metadata": {},
   "source": [
    "## Exercise 2) \n",
    "Find irregular primes among $p<50$. (If the computation takes too long, use a command _class_number(proof=False)_ instead of _class_number()_. This will assume that the Generalised Riemann Hypothesis holds and the computation will have a chance to terminate.) Later try to find them for $p>50$."
   ]
  },
  {
   "cell_type": "code",
   "execution_count": 0,
   "metadata": {},
   "outputs": [],
   "source": []
  },
  {
   "cell_type": "markdown",
   "metadata": {},
   "source": [
    "# Connection with Bernoulli numbers"
   ]
  },
  {
   "cell_type": "markdown",
   "metadata": {},
   "source": [
    "The Bernoulli numbers $B_k$ can be defined as the Taylor coefficients of\n",
    "$$f(y) = \\frac{1}{e^y-1} = \\sum_{k=0}^\\infty \\frac{B_k}{k!}t^{k-1} .$$"
   ]
  },
  {
   "cell_type": "markdown",
   "metadata": {},
   "source": [
    "You will prove a relation between $B_{2k}$ and $\\zeta(2k)$ in the second exercise class.\n",
    "\n",
    "The Bernoulli numbers were implemented in SageMath basing on an algorithm of David Harvey from 2008,"
   ]
  },
  {
   "cell_type": "code",
   "execution_count": 2,
   "metadata": {},
   "outputs": [
    {
     "data": {
      "text/plain": [
       "[1, -1/2, 1/6, 0, -1/30, 0, 1/42, 0, -1/30, 0]"
      ]
     },
     "execution_count": 2,
     "metadata": {},
     "output_type": "execute_result"
    }
   ],
   "source": [
    "[bernoulli(i) for i in range(10)] # a list of Bernoulli numbers up to B_9"
   ]
  },
  {
   "cell_type": "markdown",
   "metadata": {},
   "source": [
    "Kummer proved that <font color =\"red\"> a prime $p$ is regular if and only if $p$ does not divide a numerator of Bernoulli numbers $B_2, B_4,\\ldots, B_{p-3}$ </font>. "
   ]
  },
  {
   "cell_type": "markdown",
   "metadata": {},
   "source": [
    "## Exercise 3)\n",
    "\n",
    "Knowing that the denominators of Bernoulli numbers $B_{2n}$ with $n>0$ may be computed from **von Staudt–Clausen formula** $$D_{2n}=\\prod_{p-1|2n}p$$ find irregular primes $p$ for $p<10000$. Compare your results with a previous exercise."
   ]
  },
  {
   "cell_type": "code",
   "execution_count": 0,
   "metadata": {},
   "outputs": [],
   "source": []
  },
  {
   "cell_type": "markdown",
   "metadata": {},
   "source": [
    "## <font color =\"teal\">Conjecture (Siegel):\n",
    "There are infinitely many regular prime numbers. More precisely, their density among prime numbers is $e^{-1/2}\\cong 60.65\\%$. </font>\n",
    "\n",
    "(But we do know that there are infinitely many irregular prime numbers.)"
   ]
  },
  {
   "cell_type": "markdown",
   "metadata": {},
   "source": [
    "### Exercise 4) \n",
    "\n",
    "Denote by $Reg(X)$ the number of regular primes smaller or equal $X$. Compute the quotients $$\\frac{Reg(X)}{\\pi(X)}$$ for $X=500, 1000, 1500, \\ldots , 10000$ and perhaps also bigger values. A limit  of such quotients when $X\\to\\infty$ is an **asymptotic density** of regular primes among all prime numbers alluded to in Siegel's conjecture. Does it seem that the conjecture is true?"
   ]
  },
  {
   "cell_type": "code",
   "execution_count": 0,
   "metadata": {},
   "outputs": [],
   "source": []
  }
 ],
 "metadata": {
  "kernelspec": {
   "display_name": "SageMath 8.9",
   "language": "sage",
   "name": "sagemath"
  },
  "language_info": {
   "codemirror_mode": {
    "name": "ipython",
    "version": 2
   },
   "file_extension": ".py",
   "mimetype": "text/x-python",
   "name": "python",
   "nbconvert_exporter": "python",
   "pygments_lexer": "ipython2",
   "version": "2.7.15"
  }
 },
 "nbformat": 4,
 "nbformat_minor": 1
}
